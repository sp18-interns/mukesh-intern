{
 "cells": [
  {
   "cell_type": "code",
   "execution_count": 1,
   "id": "02540c72",
   "metadata": {},
   "outputs": [
    {
     "name": "stdout",
     "output_type": "stream",
     "text": [
      "3\n",
      "5\n"
     ]
    }
   ],
   "source": [
    "if __name__ == '__main__':\n",
    "    a = int(input())\n",
    "    b = int(input())\n",
    "def div():\n",
    "    print(int(a/b))\n",
    "div()"
   ]
  },
  {
   "cell_type": "code",
   "execution_count": 2,
   "id": "08dfa0c5",
   "metadata": {},
   "outputs": [
    {
     "name": "stdout",
     "output_type": "stream",
     "text": [
      "I,m in sp18\n"
     ]
    }
   ],
   "source": [
    "print('I,m in sp18')"
   ]
  },
  {
   "cell_type": "code",
   "execution_count": null,
   "id": "a4c210e8",
   "metadata": {},
   "outputs": [],
   "source": [
    "print('Enter the first number')\n",
    "num1=float(input())\n",
    "print('Enter the 2nd number')\n",
    "num2=float(input())\n",
    "print('What do you want to:*,/,+,-')\n",
    "num3=input()\n",
    "\n",
    "if num3 == '*':\n",
    "    mul=num1*num2\n",
    "    print('your result is',mul)\n",
    "elif num3 == '+':\n",
    "    add=num1+num2\n",
    "    print('your result is',add)\n",
    "elif num3 == '/':\n",
    "    div=num1/num2\n",
    "    print('your result is',div)\n",
    "elif num3 == '-':\n",
    "    sub = num1 - num2\n",
    "    print('your result is',sub)"
   ]
  },
  {
   "cell_type": "code",
   "execution_count": 14,
   "id": "32d29d9f",
   "metadata": {},
   "outputs": [
    {
     "name": "stdout",
     "output_type": "stream",
     "text": [
      "2\n",
      "6\n",
      "0\n",
      "8\n"
     ]
    }
   ],
   "source": [
    "a = int(input())\n",
    "b = int(input())\n",
    "def div():\n",
    "    print(int(a/b))\n",
    "div()\n",
    "def kiv():\n",
    "    print(int(a+b))\n",
    "kiv()"
   ]
  },
  {
   "cell_type": "code",
   "execution_count": 20,
   "id": "130ca35b",
   "metadata": {},
   "outputs": [
    {
     "name": "stdout",
     "output_type": "stream",
     "text": [
      "(40, 50, 60, 70, 80)\n"
     ]
    }
   ],
   "source": [
    "def myfunc(*spam):\n",
    "    print(spam)\n",
    "\n",
    "myfunc(40,50,60,70,80)"
   ]
  },
  {
   "cell_type": "code",
   "execution_count": 23,
   "id": "33473f24",
   "metadata": {},
   "outputs": [
    {
     "name": "stdout",
     "output_type": "stream",
     "text": [
      "40\n",
      "50\n",
      "60\n",
      "80\n"
     ]
    }
   ],
   "source": [
    "def myfunc(*args):\n",
    "    for item in args:\n",
    "        print(item)\n",
    "myfunc(40,50,60,80)"
   ]
  },
  {
   "cell_type": "code",
   "execution_count": 24,
   "id": "2fa660da",
   "metadata": {},
   "outputs": [
    {
     "ename": "IndentationError",
     "evalue": "expected an indented block after 'if' statement on line 2 (1567423048.py, line 2)",
     "output_type": "error",
     "traceback": [
      "\u001b[1;36m  Input \u001b[1;32mIn [24]\u001b[1;36m\u001b[0m\n\u001b[1;33m    if 'fruit' in kwargs:\u001b[0m\n\u001b[1;37m                         ^\u001b[0m\n\u001b[1;31mIndentationError\u001b[0m\u001b[1;31m:\u001b[0m expected an indented block after 'if' statement on line 2\n"
     ]
    }
   ],
   "source": [
    "def myfunc(**kwargs):\n",
    "    if 'fruit' in kwargs:\n",
    "        print(\"My fruit of choice is {}\".format(kwargs['fruit']))"
   ]
  },
  {
   "cell_type": "code",
   "execution_count": null,
   "id": "b0ac849b",
   "metadata": {},
   "outputs": [],
   "source": []
  }
 ],
 "metadata": {
  "kernelspec": {
   "display_name": "Python 3 (ipykernel)",
   "language": "python",
   "name": "python3"
  },
  "language_info": {
   "codemirror_mode": {
    "name": "ipython",
    "version": 3
   },
   "file_extension": ".py",
   "mimetype": "text/x-python",
   "name": "python",
   "nbconvert_exporter": "python",
   "pygments_lexer": "ipython3",
   "version": "3.10.2"
  }
 },
 "nbformat": 4,
 "nbformat_minor": 5
}

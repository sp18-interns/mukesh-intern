{
 "cells": [
  {
   "cell_type": "code",
   "execution_count": 1,
   "id": "17807859",
   "metadata": {},
   "outputs": [],
   "source": [
    "import datetime #datetime"
   ]
  },
  {
   "cell_type": "code",
   "execution_count": 2,
   "id": "4218db10",
   "metadata": {},
   "outputs": [],
   "source": [
    "t = datetime.time(5,35,6)"
   ]
  },
  {
   "cell_type": "code",
   "execution_count": 4,
   "id": "162459ef",
   "metadata": {},
   "outputs": [
    {
     "name": "stdout",
     "output_type": "stream",
     "text": [
      "05:35:06\n"
     ]
    }
   ],
   "source": [
    "print( t )"
   ]
  },
  {
   "cell_type": "code",
   "execution_count": null,
   "id": "f16948a7",
   "metadata": {},
   "outputs": [
    {
     "name": "stdout",
     "output_type": "stream",
     "text": [
      "result\n",
      "--Return--\n",
      "None\n",
      "> \u001b[1;32mc:\\users\\mukes\\appdata\\local\\temp\\ipykernel_24008\\1750635181.py\u001b[0m(12)\u001b[0;36m<cell line: 12>\u001b[1;34m()\u001b[0m\n",
      "\n",
      "ipdb> 5\n",
      "5\n",
      "ipdb> 6\n",
      "6\n",
      "ipdb> 7\n",
      "7\n",
      "ipdb> 8\n",
      "8\n"
     ]
    }
   ],
   "source": [
    "#python debugger\n",
    "\n",
    "import pdb\n",
    "\n",
    "x = [1,3,4]\n",
    "y = 2\n",
    "z = 3\n",
    "\n",
    "result = y +z\n",
    "print ('result')\n",
    "\n",
    "pdb.set_trace()\n",
    "\n",
    "result2 = y+x\n",
    "print ('result2')"
   ]
  },
  {
   "cell_type": "code",
   "execution_count": 1,
   "id": "4f919795",
   "metadata": {},
   "outputs": [
    {
     "data": {
      "text/plain": [
       "'0-1-2-3-4-.....99'"
      ]
     },
     "execution_count": 1,
     "metadata": {},
     "output_type": "execute_result"
    }
   ],
   "source": [
    "import timeit\n",
    "\n",
    "'0-1-2-3-4-.....99'"
   ]
  },
  {
   "cell_type": "code",
   "execution_count": null,
   "id": "581b7598",
   "metadata": {},
   "outputs": [],
   "source": [
    "#Regular expressions"
   ]
  },
  {
   "cell_type": "code",
   "execution_count": 2,
   "id": "b50188c1",
   "metadata": {},
   "outputs": [],
   "source": [
    "import re"
   ]
  },
  {
   "cell_type": "code",
   "execution_count": 3,
   "id": "2a0ae3a4",
   "metadata": {},
   "outputs": [],
   "source": [
    "patterns = ['term1','term2']\n",
    "text = 'This is a string with term1,but not the other term'"
   ]
  },
  {
   "cell_type": "code",
   "execution_count": 5,
   "id": "ef831df7",
   "metadata": {},
   "outputs": [
    {
     "data": {
      "text/plain": [
       "<re.Match object; span=(0, 5), match='hello'>"
      ]
     },
     "execution_count": 5,
     "metadata": {},
     "output_type": "execute_result"
    }
   ],
   "source": [
    "re.search('hello','hello world!')\n",
    "          "
   ]
  },
  {
   "cell_type": "code",
   "execution_count": null,
   "id": "f910c613",
   "metadata": {},
   "outputs": [],
   "source": []
  }
 ],
 "metadata": {
  "kernelspec": {
   "display_name": "Python 3 (ipykernel)",
   "language": "python",
   "name": "python3"
  },
  "language_info": {
   "codemirror_mode": {
    "name": "ipython",
    "version": 3
   },
   "file_extension": ".py",
   "mimetype": "text/x-python",
   "name": "python",
   "nbconvert_exporter": "python",
   "pygments_lexer": "ipython3",
   "version": "3.10.2"
  }
 },
 "nbformat": 4,
 "nbformat_minor": 5
}

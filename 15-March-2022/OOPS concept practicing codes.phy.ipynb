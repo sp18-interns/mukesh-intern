{
 "cells": [
  {
   "cell_type": "code",
   "execution_count": 12,
   "id": "89baeb0c",
   "metadata": {},
   "outputs": [
    {
     "data": {
      "text/plain": [
       "__main__.Hotel"
      ]
     },
     "execution_count": 12,
     "metadata": {},
     "output_type": "execute_result"
    }
   ],
   "source": [
    "class Hotel():\n",
    "    \n",
    "    Apartment = 'Building'\n",
    "    \n",
    "    def __init__(self,Class,name):\n",
    "        \n",
    "        \n",
    "        self.Class = Class\n",
    "        self.name = name\n",
    "        \n",
    "    def color(self):\n",
    "        print(\"BLue!\")\n",
    "        \n",
    "my_Hotel = Hotel('Lab','TAJ HOTEL')\n",
    "\n",
    "type(my_Hotel)"
   ]
  },
  {
   "cell_type": "code",
   "execution_count": 13,
   "id": "d1155261",
   "metadata": {},
   "outputs": [
    {
     "data": {
      "text/plain": [
       "'TAJ HOTEL'"
      ]
     },
     "execution_count": 13,
     "metadata": {},
     "output_type": "execute_result"
    }
   ],
   "source": [
    "my_Hotel.name"
   ]
  },
  {
   "cell_type": "code",
   "execution_count": 14,
   "id": "118f3dd9",
   "metadata": {},
   "outputs": [
    {
     "data": {
      "text/plain": [
       "'Building'"
      ]
     },
     "execution_count": 14,
     "metadata": {},
     "output_type": "execute_result"
    }
   ],
   "source": [
    "my_Hotel.Apartment"
   ]
  },
  {
   "cell_type": "code",
   "execution_count": 15,
   "id": "12caac56",
   "metadata": {},
   "outputs": [
    {
     "name": "stdout",
     "output_type": "stream",
     "text": [
      "BLue!\n"
     ]
    }
   ],
   "source": [
    "my_Hotel.color()"
   ]
  },
  {
   "cell_type": "code",
   "execution_count": 21,
   "id": "38c21d3e",
   "metadata": {},
   "outputs": [],
   "source": [
    "class Circle():\n",
    "    \n",
    "    # CLASS OBJECT ATTRIBUTE\n",
    "    pi = 3.14\n",
    "\n",
    "def __init__(self,radius=1):\n",
    "    \n",
    "    self.radius = radius\n",
    "    \n",
    "    # METHOD\n",
    "    def get_circumfrence(self):\n",
    "        return self.radius * self.pi * 2"
   ]
  },
  {
   "cell_type": "code",
   "execution_count": 22,
   "id": "7afdaf21",
   "metadata": {},
   "outputs": [
    {
     "data": {
      "text/plain": [
       "3.14"
      ]
     },
     "execution_count": 22,
     "metadata": {},
     "output_type": "execute_result"
    }
   ],
   "source": [
    "my_circle = Circle()\n",
    "\n",
    "my_circle.pi"
   ]
  },
  {
   "cell_type": "code",
   "execution_count": 24,
   "id": "f5d53d2e",
   "metadata": {},
   "outputs": [
    {
     "name": "stdout",
     "output_type": "stream",
     "text": [
      "NATURE CREATED\n"
     ]
    }
   ],
   "source": [
    "class Geographic():\n",
    "    \n",
    "    def __init__(self):\n",
    "        print(\"NATURE CREATED\")\n",
    "        \n",
    "mygeographic = Geographic()\n",
    "    \n"
   ]
  },
  {
   "cell_type": "code",
   "execution_count": 25,
   "id": "de7eec9d",
   "metadata": {},
   "outputs": [],
   "source": [
    "class Geographic():\n",
    "    \n",
    "    def __init__ (self):\n",
    "        print(\"NATURE CREATED\")\n",
    "        \n",
    "    def who_am_i(self):\n",
    "        print(\"I am DAZZ\")\n",
    "        \n",
    "    def eat (self):\n",
    "        print(\"I am DATTH\")"
   ]
  },
  {
   "cell_type": "code",
   "execution_count": 28,
   "id": "38525b48",
   "metadata": {},
   "outputs": [
    {
     "name": "stdout",
     "output_type": "stream",
     "text": [
      "NATURE CREATED\n"
     ]
    }
   ],
   "source": [
    "class Nature(Geographic):\n",
    "    \n",
    "    def __init__(self):\n",
    "        Geographic.__init__(self)\n",
    "        print(\"GEOGRAPHIC CREATED\")\n",
    "        \n",
    "mygeographic = Geographic()"
   ]
  },
  {
   "cell_type": "code",
   "execution_count": 30,
   "id": "a24ff919",
   "metadata": {},
   "outputs": [
    {
     "name": "stdout",
     "output_type": "stream",
     "text": [
      "I am DAZZ\n"
     ]
    }
   ],
   "source": [
    "mygeographic.who_am_i()"
   ]
  },
  {
   "cell_type": "code",
   "execution_count": 31,
   "id": "44d74381",
   "metadata": {},
   "outputs": [
    {
     "name": "stdout",
     "output_type": "stream",
     "text": [
      "I am DATTH\n"
     ]
    }
   ],
   "source": [
    "mygeographic.eat()"
   ]
  },
  {
   "cell_type": "code",
   "execution_count": 43,
   "id": "134d3cf8",
   "metadata": {},
   "outputs": [
    {
     "name": "stdout",
     "output_type": "stream",
     "text": [
      "Python rocks by Jose\n"
     ]
    },
    {
     "data": {
      "text/plain": [
       "'Python rocks by Jose'"
      ]
     },
     "execution_count": 43,
     "metadata": {},
     "output_type": "execute_result"
    }
   ],
   "source": [
    "class Book():\n",
    "    \n",
    "    def __init__(self,title,author,pages):\n",
    "        \n",
    "        self.title = title\n",
    "        self.author = author\n",
    "        self.pages = pages\n",
    "        \n",
    "    def __str__(self):\n",
    "        return f\"{self.title} by {self.author}\"\n",
    "        \n",
    "b = Book('Python rocks','Jose',300)\n",
    "print(b)\n",
    "\n",
    "str(b)\n",
    "\n"
   ]
  },
  {
   "cell_type": "code",
   "execution_count": 35,
   "id": "4ac16307",
   "metadata": {},
   "outputs": [
    {
     "name": "stdout",
     "output_type": "stream",
     "text": [
      "folexsays WOAHHHA!\n"
     ]
    }
   ],
   "source": [
    "class Ziraff():\n",
    "    \n",
    "    def __init__(self,mode):\n",
    "        self.mode = mode\n",
    "        \n",
    "    def speak(self):\n",
    "        return self.mode + \"says WOAHHHA!\"\n",
    "    \n",
    "folex = Ziraff(\"folex\")\n",
    "\n",
    "print(folex.speak())"
   ]
  },
  {
   "cell_type": "code",
   "execution_count": 48,
   "id": "e35c93d8",
   "metadata": {},
   "outputs": [],
   "source": [
    "class Line:\n",
    "    \n",
    "    def __init__(self,coor1,coor2):\n",
    "        pass\n",
    "    def distance(self):\n",
    "        pass\n",
    "    def slope(self):\n",
    "        pass\n",
    "    \n",
    "# Example output\n",
    "\n",
    "coor1 = (3,2)\n",
    "coor2 = (8,10)\n",
    "\n",
    "li = Line(coor1,coor2)\n"
   ]
  },
  {
   "cell_type": "code",
   "execution_count": null,
   "id": "f6729dae",
   "metadata": {},
   "outputs": [],
   "source": [
    "li.distance()"
   ]
  },
  {
   "cell_type": "code",
   "execution_count": 49,
   "id": "769c1820",
   "metadata": {},
   "outputs": [],
   "source": [
    "class Cylinder:\n",
    "    \n",
    "    def __init__ (self,height=1,radius=1):\n",
    "        pass\n",
    "    def volume(self):\n",
    "        pass\n",
    "    def surface_area(self):\n",
    "        pass\n",
    "    \n",
    "#Example output\n",
    "c = Cylinder(2,3)\n",
    "\n",
    "c.volume()"
   ]
  },
  {
   "cell_type": "code",
   "execution_count": 50,
   "id": "84fc1787",
   "metadata": {},
   "outputs": [],
   "source": [
    "class Line:\n",
    "    \n",
    "    def __init__(self,coor1,coor2):\n",
    "        self.coor1 = coor1\n",
    "        self.coor2 = coor2\n",
    "        \n",
    "    def __init__(self):\n",
    "        \n",
    "        x1,y1 = self.coor1\n",
    "        x2,y2 = self.coor2\n",
    "        \n",
    "        return ((x2-x1)**2 + (y2-y1)**2)**0.5\n",
    "    \n",
    "    def slope(self):\n",
    "        \n",
    "        x1,y1 = self.coor1\n",
    "        x2,y2 = self.coor2\n",
    "        \n",
    "        return (y2-y1) / (x2-x1)"
   ]
  },
  {
   "cell_type": "code",
   "execution_count": 51,
   "id": "4e3a551f",
   "metadata": {},
   "outputs": [],
   "source": [
    "c1 = (4,5)\n",
    "c2 = (8,10)"
   ]
  },
  {
   "cell_type": "code",
   "execution_count": 53,
   "id": "37e1ad1a",
   "metadata": {},
   "outputs": [
    {
     "ename": "TypeError",
     "evalue": "Line.__init__() takes 1 positional argument but 3 were given",
     "output_type": "error",
     "traceback": [
      "\u001b[1;31m---------------------------------------------------------------------------\u001b[0m",
      "\u001b[1;31mTypeError\u001b[0m                                 Traceback (most recent call last)",
      "Input \u001b[1;32mIn [53]\u001b[0m, in \u001b[0;36m<cell line: 1>\u001b[1;34m()\u001b[0m\n\u001b[1;32m----> 1\u001b[0m myline \u001b[38;5;241m=\u001b[39m \u001b[43mLine\u001b[49m\u001b[43m(\u001b[49m\u001b[43mc1\u001b[49m\u001b[43m,\u001b[49m\u001b[43mc2\u001b[49m\u001b[43m)\u001b[49m\n\u001b[0;32m      3\u001b[0m myline\u001b[38;5;241m.\u001b[39mdistance()\n",
      "\u001b[1;31mTypeError\u001b[0m: Line.__init__() takes 1 positional argument but 3 were given"
     ]
    }
   ],
   "source": [
    "myline = Line(c1,c2)\n",
    "\n",
    "myline.distance()"
   ]
  },
  {
   "cell_type": "code",
   "execution_count": 58,
   "id": "db1f99da",
   "metadata": {},
   "outputs": [
    {
     "data": {
      "text/plain": [
       "450"
      ]
     },
     "execution_count": 58,
     "metadata": {},
     "output_type": "execute_result"
    }
   ],
   "source": [
    "class Simple():\n",
    "    \n",
    "    def __init__(self,value):\n",
    "        \n",
    "        self.value = value\n",
    "    def add_to_value(self,amount):\n",
    "        \n",
    "        self.value = self.value + amount\n",
    "        print('We just added {} to your value'.format(amount))\n",
    "        \n",
    "        \n",
    "myobj = Simple(450)\n",
    "\n",
    "myobj.value\n"
   ]
  },
  {
   "cell_type": "code",
   "execution_count": 59,
   "id": "69659f64",
   "metadata": {},
   "outputs": [
    {
     "name": "stdout",
     "output_type": "stream",
     "text": [
      "We just added 1000 to your value\n"
     ]
    },
    {
     "data": {
      "text/plain": [
       "1450"
      ]
     },
     "execution_count": 59,
     "metadata": {},
     "output_type": "execute_result"
    }
   ],
   "source": [
    "myobj.add_to_value(1000)\n",
    "myobj.value"
   ]
  },
  {
   "cell_type": "code",
   "execution_count": 63,
   "id": "ecb7328d",
   "metadata": {},
   "outputs": [
    {
     "name": "stdout",
     "output_type": "stream",
     "text": [
      "We just added 500 to your tax\n"
     ]
    }
   ],
   "source": [
    "class Ticket():\n",
    "    \n",
    "    def __init__(self,tax):\n",
    "        self.tax = tax\n",
    "        \n",
    "    def add_to_value(self,amount):\n",
    "        self.tax = self.tax + amount\n",
    "        print('We just added {} to your tax'.format(amount))\n",
    "        \n",
    "        \n",
    "        \n",
    "mytax =Ticket(1000)\n",
    "mytax.add_to_value(500)"
   ]
  },
  {
   "cell_type": "code",
   "execution_count": 64,
   "id": "7999fb54",
   "metadata": {},
   "outputs": [
    {
     "data": {
      "text/plain": [
       "1500"
      ]
     },
     "execution_count": 64,
     "metadata": {},
     "output_type": "execute_result"
    }
   ],
   "source": [
    "mytax.tax"
   ]
  },
  {
   "cell_type": "code",
   "execution_count": 89,
   "id": "cd62e7f7",
   "metadata": {},
   "outputs": [],
   "source": [
    "class Bankaccount():\n",
    "    \n",
    "    def __init__(self,owner,balance=0):\n",
    "        \n",
    "        self.owner = owner\n",
    "        self.balance = balance\n",
    "        \n",
    "    def deposit(self,dep_amt):\n",
    "        \n",
    "        self.balance = self.balance + dep_amt\n",
    "        print(f\"Added {dep_amt} to the balance\")\n",
    "        \n",
    "    def withdrawal(self,wd_amt):\n",
    "        \n",
    "        if self.balance >= wd_amt:\n",
    "            self.balance = self.balance - wd_amt\n",
    "            print(\"Withdrawal accepted\")\n",
    "        else:\n",
    "            print(\"Sorry not enough funds!\")\n",
    "            \n",
    "    def st(self):\n",
    "        return f\"owner: {self.owner} \\nBalance: {self.balance}\"\n",
    "        "
   ]
  },
  {
   "cell_type": "code",
   "execution_count": 90,
   "id": "9315da51",
   "metadata": {},
   "outputs": [],
   "source": [
    "a = Bankaccount(\"Mitz\",1000)\n"
   ]
  },
  {
   "cell_type": "code",
   "execution_count": 91,
   "id": "9b1cce00",
   "metadata": {},
   "outputs": [
    {
     "data": {
      "text/plain": [
       "'Mitz'"
      ]
     },
     "execution_count": 91,
     "metadata": {},
     "output_type": "execute_result"
    }
   ],
   "source": [
    "a.owner"
   ]
  },
  {
   "cell_type": "code",
   "execution_count": null,
   "id": "9f9d1f88",
   "metadata": {},
   "outputs": [],
   "source": []
  },
  {
   "cell_type": "code",
   "execution_count": 92,
   "id": "494c9d34",
   "metadata": {},
   "outputs": [
    {
     "data": {
      "text/plain": [
       "1000"
      ]
     },
     "execution_count": 92,
     "metadata": {},
     "output_type": "execute_result"
    }
   ],
   "source": [
    "a.balance"
   ]
  },
  {
   "cell_type": "code",
   "execution_count": 94,
   "id": "6a37b4e9",
   "metadata": {},
   "outputs": [
    {
     "name": "stdout",
     "output_type": "stream",
     "text": [
      "owner: Mitz \n",
      "Balance: 1000\n"
     ]
    }
   ],
   "source": [
    "print(a.st())"
   ]
  },
  {
   "cell_type": "code",
   "execution_count": 101,
   "id": "2d8827cb",
   "metadata": {},
   "outputs": [
    {
     "name": "stdout",
     "output_type": "stream",
     "text": [
      "Added 100 to the balance\n"
     ]
    }
   ],
   "source": [
    "a.deposit(100)"
   ]
  },
  {
   "cell_type": "code",
   "execution_count": 102,
   "id": "94ef5573",
   "metadata": {},
   "outputs": [],
   "source": [
    "#print(a.())"
   ]
  },
  {
   "cell_type": "code",
   "execution_count": 103,
   "id": "91c15ae9",
   "metadata": {},
   "outputs": [
    {
     "name": "stdout",
     "output_type": "stream",
     "text": [
      "owner: Mitz \n",
      "Balance: 1100\n"
     ]
    }
   ],
   "source": [
    "print(a.st())"
   ]
  },
  {
   "cell_type": "code",
   "execution_count": 108,
   "id": "262bff12",
   "metadata": {},
   "outputs": [
    {
     "name": "stdout",
     "output_type": "stream",
     "text": [
      "Withdrawal accepted\n"
     ]
    }
   ],
   "source": [
    "a.withdrawal(1000)"
   ]
  },
  {
   "cell_type": "code",
   "execution_count": 109,
   "id": "f0f5adf0",
   "metadata": {},
   "outputs": [
    {
     "data": {
      "text/plain": [
       "100"
      ]
     },
     "execution_count": 109,
     "metadata": {},
     "output_type": "execute_result"
    }
   ],
   "source": [
    "a.balance"
   ]
  },
  {
   "cell_type": "code",
   "execution_count": 110,
   "id": "53392431",
   "metadata": {},
   "outputs": [
    {
     "name": "stdout",
     "output_type": "stream",
     "text": [
      "Sorry not enough funds!\n"
     ]
    }
   ],
   "source": [
    "a.withdrawal(105)"
   ]
  },
  {
   "cell_type": "code",
   "execution_count": 111,
   "id": "8a0bc5b7",
   "metadata": {},
   "outputs": [
    {
     "data": {
      "text/plain": [
       "100"
      ]
     },
     "execution_count": 111,
     "metadata": {},
     "output_type": "execute_result"
    }
   ],
   "source": [
    "a.balance"
   ]
  },
  {
   "cell_type": "code",
   "execution_count": null,
   "id": "17c81a14",
   "metadata": {},
   "outputs": [],
   "source": []
  }
 ],
 "metadata": {
  "kernelspec": {
   "display_name": "Python 3 (ipykernel)",
   "language": "python",
   "name": "python3"
  },
  "language_info": {
   "codemirror_mode": {
    "name": "ipython",
    "version": 3
   },
   "file_extension": ".py",
   "mimetype": "text/x-python",
   "name": "python",
   "nbconvert_exporter": "python",
   "pygments_lexer": "ipython3",
   "version": "3.10.2"
  }
 },
 "nbformat": 4,
 "nbformat_minor": 5
}

{
 "cells": [
  {
   "cell_type": "code",
   "execution_count": 11,
   "id": "b296e4dd",
   "metadata": {},
   "outputs": [
    {
     "name": "stdout",
     "output_type": "stream",
     "text": [
      "<function _julian_day at 0x0000020273E7CE50>\n"
     ]
    }
   ],
   "source": [
    "from datetime import datetime\n",
    "from datetime import timedelta\n",
    "\n",
    "def _julian_day(date):\n",
    "    \n",
    "    #julian date\n",
    "\n",
    "    date = datetime.date(2020, 2,14)\n",
    "    date.strftime('%d/%m%Y')\n",
    "'14/2/2020'\n",
    "s =_julian_day\n",
    "\n"
   ]
  },
  {
   "cell_type": "code",
   "execution_count": 21,
   "id": "c72c1528",
   "metadata": {},
   "outputs": [],
   "source": [
    "from calendar import datetime\n",
    "import datetime\n",
    "\n",
    "'''julian dates find how many days of total number of year to find the date'''\n",
    "\n",
    "def date_standard_to_julian_day(standarddate):\n",
    "    format='%Y-%m-%d'\n",
    "    standarddate = datetime.datetime.strptime(standarddate, format)\n",
    "    standarddate = standarddate.timetuple()\n",
    "    juliandate = standarddate.tm_yday\n",
    "    return(juliandate)"
   ]
  },
  {
   "cell_type": "code",
   "execution_count": 22,
   "id": "0f68a4fa",
   "metadata": {},
   "outputs": [
    {
     "data": {
      "text/plain": [
       "45"
      ]
     },
     "execution_count": 22,
     "metadata": {},
     "output_type": "execute_result"
    }
   ],
   "source": [
    "date_standard_to_julian_day('2022-2-14')"
   ]
  },
  {
   "cell_type": "code",
   "execution_count": 29,
   "id": "fe184f5b",
   "metadata": {},
   "outputs": [],
   "source": [
    "from calendar import monthrange\n",
    "import datetime\n",
    "\n",
    "\n",
    "def number_of_days_in_month(year=0, month=0):\n",
    "    return monthrange(year, month)[1]"
   ]
  },
  {
   "cell_type": "code",
   "execution_count": 33,
   "id": "ad5c318f",
   "metadata": {},
   "outputs": [
    {
     "data": {
      "text/plain": [
       "31"
      ]
     },
     "execution_count": 33,
     "metadata": {},
     "output_type": "execute_result"
    }
   ],
   "source": [
    "number_of_days_in_month(year=20, month=7)"
   ]
  },
  {
   "cell_type": "code",
   "execution_count": null,
   "id": "d8ed5c5c",
   "metadata": {},
   "outputs": [],
   "source": []
  }
 ],
 "metadata": {
  "kernelspec": {
   "display_name": "Python 3 (ipykernel)",
   "language": "python",
   "name": "python3"
  },
  "language_info": {
   "codemirror_mode": {
    "name": "ipython",
    "version": 3
   },
   "file_extension": ".py",
   "mimetype": "text/x-python",
   "name": "python",
   "nbconvert_exporter": "python",
   "pygments_lexer": "ipython3",
   "version": "3.10.2"
  }
 },
 "nbformat": 4,
 "nbformat_minor": 5
}

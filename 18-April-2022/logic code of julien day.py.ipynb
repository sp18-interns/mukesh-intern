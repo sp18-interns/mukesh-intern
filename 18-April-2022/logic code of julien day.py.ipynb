{
 "cells": [
  {
   "cell_type": "code",
   "execution_count": 1,
   "id": "3d2f9ae5",
   "metadata": {},
   "outputs": [],
   "source": [
    "def __Julian__day_year(month,year):\n",
    "    if month in (1, 3, 5, 7, 8, 10, 12):\n",
    "        return 31\n",
    "    elif month in (4, 6, 9, 11):\n",
    "        return 30\n",
    "    elif month == 2:\n",
    "        if is_leap(year):\n",
    "            return 29\n",
    "        else:\n",
    "            return 28"
   ]
  },
  {
   "cell_type": "code",
   "execution_count": 2,
   "id": "136562b4",
   "metadata": {},
   "outputs": [
    {
     "name": "stdout",
     "output_type": "stream",
     "text": [
      "64\n"
     ]
    }
   ],
   "source": [
    "\n",
    "from datetime import date\n",
    "f_date = date(2022, 7, 2)\n",
    "l_date = date(2014, 7, 11)\n",
    "delta = (f_date - l_date)/45\n",
    "print(delta.days)"
   ]
  },
  {
   "cell_type": "code",
   "execution_count": null,
   "id": "a6b04d30",
   "metadata": {},
   "outputs": [],
   "source": []
  }
 ],
 "metadata": {
  "kernelspec": {
   "display_name": "Python 3 (ipykernel)",
   "language": "python",
   "name": "python3"
  },
  "language_info": {
   "codemirror_mode": {
    "name": "ipython",
    "version": 3
   },
   "file_extension": ".py",
   "mimetype": "text/x-python",
   "name": "python",
   "nbconvert_exporter": "python",
   "pygments_lexer": "ipython3",
   "version": "3.10.2"
  }
 },
 "nbformat": 4,
 "nbformat_minor": 5
}

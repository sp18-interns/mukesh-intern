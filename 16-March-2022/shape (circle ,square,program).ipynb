{
 "cells": [
  {
   "cell_type": "code",
   "execution_count": 3,
   "id": "8527a95d",
   "metadata": {},
   "outputs": [
    {
     "name": "stdout",
     "output_type": "stream",
     "text": [
      "Enter the lenth of Rectangle: 10\n",
      "Enter the Breadth of rectangle: 20\n",
      "Rectangle object details are:\n",
      "Length of Rectangle is:  10\n",
      "Breadth of Rectangle is:  20\n",
      "\n",
      "Area of Rectangle is:  200\n",
      "\n",
      "Perimeter of Rectangle is:  60\n"
     ]
    }
   ],
   "source": [
    "class Rectangle:\n",
    "    def __init__(self,length,breadth):\n",
    "        self.length = length\n",
    "        self.breadth = breadth\n",
    "        \n",
    "    def display(self):\n",
    "        print(\"Length of Rectangle is: \" ,self.length)\n",
    "        print(\"Breadth of Rectangle is: \",self.breadth)\n",
    "        \n",
    "    def area(self):\n",
    "        return(self.length*self.breadth)\n",
    "    \n",
    "    def perimeter(self):\n",
    "        return(2*self.length + 2*self.breadth)\n",
    "    \n",
    "l = int (input(\"Enter the lenth of Rectangle: \"))\n",
    "b = int(input(\"Enter the Breadth of rectangle: \"))\n",
    "\n",
    "r1 = Rectangle(l , b)\n",
    "print(\"Rectangle object details are:\")\n",
    "r1.display()\n",
    "print(\"\")\n",
    "print(\"Area of Rectangle is: \",r1.area())\n",
    "print(\"\")\n",
    "print(\"Perimeter of Rectangle is: \",r1.perimeter())"
   ]
  },
  {
   "cell_type": "code",
   "execution_count": 11,
   "id": "dc3e2d67",
   "metadata": {},
   "outputs": [
    {
     "ename": "IndentationError",
     "evalue": "expected an indented block after 'if' statement on line 41 (725764418.py, line 43)",
     "output_type": "error",
     "traceback": [
      "\u001b[1;36m  Input \u001b[1;32mIn [11]\u001b[1;36m\u001b[0m\n\u001b[1;33m    print(\"Calculate shape Area\")\u001b[0m\n\u001b[1;37m    ^\u001b[0m\n\u001b[1;31mIndentationError\u001b[0m\u001b[1;31m:\u001b[0m expected an indented block after 'if' statement on line 41\n"
     ]
    }
   ],
   "source": [
    " # define a function for calculating\n",
    "# the area of a shapes\n",
    "\n",
    "def calculate_area(name): \\\n",
    "    \n",
    "    # converting all characters\n",
    "    # into lower cases\n",
    "    name = name.lower()\n",
    "    \n",
    "# check for the conditions\n",
    "if name == \"rectangle\":\n",
    "    l = int(input(\"Enter rectangle's length: \"))\n",
    "    b = int(input(\"Enter rectangle's breadth: \"))\n",
    "    \n",
    "    \n",
    "    rect_area = l * b\n",
    "    print(f\"The area of rectangle is {rect_area}.\")\n",
    "    \n",
    "elif name == \"square\":\n",
    "    s = int(input(\"Enter square's side length:\"))\n",
    "    \n",
    "    sqt_area = s * s\n",
    "    print(f\"The area of square is {sqt_area}.\")\n",
    "    \n",
    "elif name == \"triangle\":\n",
    "    h = int(input(\"Enter triangle's height length: \"))\n",
    "    b = int(input(\"Enter triangle's breadth length: \"))\n",
    "    \n",
    "    tri_area = 0.5 * b * h\n",
    "    print(f\"The area of triangle is {tri_area}.\")\n",
    "    \n",
    "elif name == \"Circle\":\n",
    "    r = int(input(\"Enter circle's radius length: \"))\n",
    "    pi = 3.14\n",
    "    \n",
    "    circ_area = pi * r *r\n",
    "    print(f\" The area of triangle is {circ_area}.\")\n",
    "    \n",
    "else:\n",
    "    print(\"Sorry! This shape is not available\")\n",
    "    if __name__ == \"__main__\"  :\n",
    "        \n",
    "    print(\"Calculate shape Area\")\n",
    "    shape_name = input(\"Enter the name of shape whose area you want to find: \")\n",
    "    \n",
    "    calculate_area(shape_name)\n",
    "    "
   ]
  },
  {
   "cell_type": "code",
   "execution_count": 13,
   "id": "d39ac21f",
   "metadata": {},
   "outputs": [
    {
     "name": "stdout",
     "output_type": "stream",
     "text": [
      "Enter the lenth of Rectangle: 90\n",
      "Enter the Breadth of rectangle: 90\n",
      "Rectangle object details are:\n",
      "Length of Rectangle is:  90\n",
      "Breadth of Rectangle is:  90\n",
      "\n",
      "Area of Rectangle is:  8100\n",
      "\n",
      "Perimeter of Rectangle is:  360\n"
     ]
    }
   ],
   "source": [
    "class shape:\n",
    "    def __init__(self,length,breadth):\n",
    "        self.length = length\n",
    "        self.breadth = breadth\n",
    "        \n",
    "    def display(self):\n",
    "        print(\"Length of Rectangle is: \" ,self.length)\n",
    "        print(\"Breadth of Rectangle is: \",self.breadth)\n",
    "        \n",
    "    def area(self):\n",
    "        return(self.length*self.breadth)\n",
    "    \n",
    "    def perimeter(self):\n",
    "        return(2*self.length + 2*self.breadth)\n",
    "    \n",
    "l = int (input(\"Enter the lenth of Rectangle: \"))\n",
    "b = int(input(\"Enter the Breadth of rectangle: \"))\n",
    "\n",
    "r1 = Rectangle(l , b)\n",
    "print(\"Rectangle object details are:\")\n",
    "r1.display()\n",
    "print(\"\")\n",
    "print(\"Area of Rectangle is: \",r1.area())\n",
    "print(\"\")\n",
    "print(\"Perimeter of Rectangle is: \",r1.perimeter())"
   ]
  },
  {
   "cell_type": "code",
   "execution_count": null,
   "id": "45bcb4c1",
   "metadata": {},
   "outputs": [],
   "source": [
    "class shape:\n",
    "    def __init__(self,rectangle,square,circle,triangle)\n",
    "    "
   ]
  }
 ],
 "metadata": {
  "kernelspec": {
   "display_name": "Python 3 (ipykernel)",
   "language": "python",
   "name": "python3"
  },
  "language_info": {
   "codemirror_mode": {
    "name": "ipython",
    "version": 3
   },
   "file_extension": ".py",
   "mimetype": "text/x-python",
   "name": "python",
   "nbconvert_exporter": "python",
   "pygments_lexer": "ipython3",
   "version": "3.10.2"
  }
 },
 "nbformat": 4,
 "nbformat_minor": 5
}

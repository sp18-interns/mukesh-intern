{
 "cells": [
  {
   "cell_type": "code",
   "execution_count": 4,
   "id": "11c1c711",
   "metadata": {},
   "outputs": [],
   "source": [
    "class desktop:\n",
    "    \n",
    "    def __init__(self):\n",
    "        self.name = \"Navin\"\n",
    "        self.age = 22\n",
    "        \n",
    "        \n",
    "    def update(self):\n",
    "        self.age = 20\n",
    "        \n",
    "    def compare(self,other):\n",
    "        if self.age == other.age:\n",
    "            return True\n",
    "        else:\n",
    "            return False"
   ]
  },
  {
   "cell_type": "code",
   "execution_count": 6,
   "id": "6c9df502",
   "metadata": {},
   "outputs": [
    {
     "name": "stdout",
     "output_type": "stream",
     "text": [
      "They are not exact\n",
      "Navin\n",
      "Navin\n"
     ]
    }
   ],
   "source": [
    "c1 = desktop()\n",
    "c1.age = 30\n",
    "c2 = desktop()\n",
    "\n",
    "if c1.compare(c2):\n",
    "    print(\"They are exact\")\n",
    "else:\n",
    "    print(\"They are not exact\")\n",
    "    \n",
    "print(c1.name)\n",
    "print(c2.name)"
   ]
  },
  {
   "cell_type": "code",
   "execution_count": 7,
   "id": "62ae92db",
   "metadata": {},
   "outputs": [
    {
     "name": "stdout",
     "output_type": "stream",
     "text": [
      "NINJA 8 4\n",
      "NINJA 10 4\n"
     ]
    }
   ],
   "source": [
    "class Bike:\n",
    "    \n",
    "    wheels = 4\n",
    "    \n",
    "    def __init__(self):\n",
    "        self.mil = 10\n",
    "        self.com = \"NINJA\"\n",
    "        \n",
    "        \n",
    "c1 = Bike()\n",
    "c2 = Bike()\n",
    "\n",
    "c1.mil = 8\n",
    "\n",
    "print(c1.com , c1.mil , c1.wheels)\n",
    "print(c2.com , c2.mil , c2.wheels)"
   ]
  },
  {
   "cell_type": "code",
   "execution_count": 14,
   "id": "29856387",
   "metadata": {},
   "outputs": [
    {
     "name": "stdout",
     "output_type": "stream",
     "text": [
      "73.66666666666667\n",
      "Helsinki\n"
     ]
    }
   ],
   "source": [
    "class Student:\n",
    "    \n",
    "    school = 'Helsinki'\n",
    "    \n",
    "    def __init__(self,m1,m2,m3):\n",
    "        self.m1 = m1\n",
    "        self.m2 = m2\n",
    "        self.m3 = m3\n",
    "        \n",
    "    def avg(self):\n",
    "        return (self.m1 + self.m2 + self.m3)/3\n",
    "    def get_m1(self):\n",
    "        return self.m1\n",
    "    \n",
    "    @classmethod\n",
    "    def info(cls):\n",
    "        return cls.school\n",
    "    \n",
    "s1 = Student(50,50,50)\n",
    "s2 = Student(80,76,65)\n",
    "\n",
    "\n",
    "\n",
    "print(s2.avg())\n",
    "print(Student.info())"
   ]
  },
  {
   "cell_type": "code",
   "execution_count": 21,
   "id": "adfcb3a5",
   "metadata": {},
   "outputs": [
    {
     "ename": "IndentationError",
     "evalue": "unindent does not match any outer indentation level (<tokenize>, line 18)",
     "output_type": "error",
     "traceback": [
      "\u001b[1;36m  File \u001b[1;32m<tokenize>:18\u001b[1;36m\u001b[0m\n\u001b[1;33m    def show(self):\u001b[0m\n\u001b[1;37m    ^\u001b[0m\n\u001b[1;31mIndentationError\u001b[0m\u001b[1;31m:\u001b[0m unindent does not match any outer indentation level\n"
     ]
    }
   ],
   "source": [
    "class Student:\n",
    "    \n",
    "    def __init__(self,name,rollno):\n",
    "        self.name = name\n",
    "        self.rollno = rollno\n",
    "        self.lap = self.Laptop()\n",
    "        \n",
    "    def show(self):\n",
    "        print(self.name,self.rollno)\n",
    "        self.lap.show()\n",
    "        \n",
    "    class Laptop:\n",
    "    \n",
    "       def __init__(self):\n",
    "           self.brand = 'ASUS'\n",
    "           self.cpu = 'i5'\n",
    "           self.ram = 8\n",
    "        def show(self):\n",
    "            print(self.brand,self.cpu,self.ram)\n",
    "            \n",
    "        \n",
    "        \n",
    "s1 = Student('Mitzy',2)\n",
    "s2 = Student('Kitzy',4)\n",
    "\n",
    "\n",
    "s1.show()\n",
    "\n",
    "\n",
    "print(id(lap1))\n",
    "print(id(lap2))"
   ]
  },
  {
   "cell_type": "code",
   "execution_count": 22,
   "id": "2107762d",
   "metadata": {},
   "outputs": [
    {
     "name": "stdout",
     "output_type": "stream",
     "text": [
      "140\n"
     ]
    }
   ],
   "source": [
    "class Student:\n",
    "    \n",
    "    def __init__(self,m1,m2):\n",
    "        self.m1 = m1\n",
    "        self.m2 = m2\n",
    "        \n",
    "    def __add__(self,other):\n",
    "        m1 = self.m1 + other.m1\n",
    "        m2 = self.m2 + other.m2\n",
    "        s3 = Student(m1,m2)\n",
    "        \n",
    "        \n",
    "        return s3\n",
    "        \n",
    "        \n",
    "s1 = Student(50,65)\n",
    "s2 = Student(90,45)\n",
    "\n",
    "s3 = s1 + s2\n",
    "print(s3.m1)"
   ]
  },
  {
   "cell_type": "code",
   "execution_count": 24,
   "id": "0d0b9545",
   "metadata": {},
   "outputs": [
    {
     "data": {
      "text/plain": [
       "__main__.HORSE"
      ]
     },
     "execution_count": 24,
     "metadata": {},
     "output_type": "execute_result"
    }
   ],
   "source": [
    "class HORSE():\n",
    "    \n",
    "    def __init__(self,breed):\n",
    "        \n",
    "        self.breed = breed\n",
    "        \n",
    "my_Horse = HORSE(breed='Lab')\n",
    "\n",
    "type(my_Horse)"
   ]
  },
  {
   "cell_type": "code",
   "execution_count": null,
   "id": "72888a40",
   "metadata": {},
   "outputs": [],
   "source": []
  }
 ],
 "metadata": {
  "kernelspec": {
   "display_name": "Python 3 (ipykernel)",
   "language": "python",
   "name": "python3"
  },
  "language_info": {
   "codemirror_mode": {
    "name": "ipython",
    "version": 3
   },
   "file_extension": ".py",
   "mimetype": "text/x-python",
   "name": "python",
   "nbconvert_exporter": "python",
   "pygments_lexer": "ipython3",
   "version": "3.10.2"
  }
 },
 "nbformat": 4,
 "nbformat_minor": 5
}

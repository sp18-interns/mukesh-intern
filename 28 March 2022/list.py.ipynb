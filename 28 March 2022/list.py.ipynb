{
 "cells": [
  {
   "cell_type": "code",
   "execution_count": 4,
   "id": "aad0f4ca",
   "metadata": {},
   "outputs": [
    {
     "name": "stdout",
     "output_type": "stream",
     "text": [
      "{1, 2, 3, 4, 5, 6, 7, 8, 9}\n"
     ]
    }
   ],
   "source": [
    "list = [1 , 2 , 3, 4 , 5, 6, 7 , 8 , 9]\n",
    "my_list = {*list}\n",
    "print(my_list)"
   ]
  },
  {
   "cell_type": "code",
   "execution_count": 6,
   "id": "416278ff",
   "metadata": {},
   "outputs": [
    {
     "name": "stdout",
     "output_type": "stream",
     "text": [
      "{1, 2, 3, 4, 5, 6, 7, 98}\n"
     ]
    }
   ],
   "source": [
    "#making list\n",
    "my_list = [1,2,3,4,5,6,6,7,98]\n",
    "my_set = {*my_list}\n",
    "print(my_set)"
   ]
  },
  {
   "cell_type": "code",
   "execution_count": 11,
   "id": "33e0e48f",
   "metadata": {},
   "outputs": [
    {
     "name": "stdout",
     "output_type": "stream",
     "text": [
      "{1, 2, 3, 4, 5, 6, 7, 9, 78, 22}\n"
     ]
    }
   ],
   "source": [
    "#using for loop and empty set \n",
    "list1 = [1,2 ,22 ,3,4,5,6 ,7 ,78,9]\n",
    "unique_elements=set()\n",
    "for x in list1:\n",
    "    unique_elements.add(x)\n",
    "print(unique_elements)\n",
    "    "
   ]
  },
  {
   "cell_type": "code",
   "execution_count": null,
   "id": "dc98d86c",
   "metadata": {},
   "outputs": [],
   "source": [
    "list1 = [1,]"
   ]
  },
  {
   "cell_type": "code",
   "execution_count": null,
   "id": "e5ccf48b",
   "metadata": {},
   "outputs": [],
   "source": []
  }
 ],
 "metadata": {
  "kernelspec": {
   "display_name": "Python 3 (ipykernel)",
   "language": "python",
   "name": "python3"
  },
  "language_info": {
   "codemirror_mode": {
    "name": "ipython",
    "version": 3
   },
   "file_extension": ".py",
   "mimetype": "text/x-python",
   "name": "python",
   "nbconvert_exporter": "python",
   "pygments_lexer": "ipython3",
   "version": "3.10.2"
  }
 },
 "nbformat": 4,
 "nbformat_minor": 5
}
